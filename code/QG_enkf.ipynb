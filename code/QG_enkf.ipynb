{
 "cells": [
  {
   "cell_type": "code",
   "execution_count": 1,
   "id": "db7e68c7-214d-408e-b06a-4353030b5e9a",
   "metadata": {},
   "outputs": [
    {
     "data": {
      "text/plain": [
       "{'Difference Norm': 0.0, 'Are Results Matching': True}"
      ]
     },
     "execution_count": 1,
     "metadata": {},
     "output_type": "execute_result"
    }
   ],
   "source": [
    "import numpy as np\n",
    "from enkf import eakf\n",
    "from numba import jit\n",
    "\n",
    "\n",
    "def eakf(ensemble_size, nobs, zens, Hk, obs_error_var, localize, CMat, zobs):\n",
    "    \"\"\"\n",
    "    Ensemble Adjustment Kalman Filter (EAKF).\n",
    "    \n",
    "    Parameters:\n",
    "        ensemble_size (int): Number of ensemble members.\n",
    "        nobs (int): Number of observations.\n",
    "        zens (np.ndarray): Ensemble matrix of shape (ensemble_size, nmod).\n",
    "        Hk (np.ndarray): Observation operator matrix of shape (nobs, nmod).\n",
    "        obs_error_var (float): Observation error variance.\n",
    "        localize (int): Flag for localization (1 for applying localization, 0 otherwise).\n",
    "        CMat (np.ndarray): Localization matrix of shape (nobs, nmod).\n",
    "        zobs (np.ndarray): Observations of shape (nobs,).\n",
    "    \n",
    "    Returns:\n",
    "        np.ndarray: Updated ensemble matrix.\n",
    "    \"\"\"\n",
    "    rn = 1.0 / (ensemble_size - 1)\n",
    "    \n",
    "    for iobs in range(nobs):\n",
    "        xmean = np.mean(zens, axis=0)\n",
    "        xprime = zens - xmean\n",
    "        hxens = (Hk[iobs, :] @ zens.T)\n",
    "        hxmean = np.mean(hxens)\n",
    "        hxprime = hxens - hxmean\n",
    "        hpbht = hxprime @ hxprime.T * rn\n",
    "        gainfact = (hpbht + obs_error_var) / hpbht * (1.0 - np.sqrt(obs_error_var / (hpbht + obs_error_var)))\n",
    "        pbht = (xprime.T @ hxprime) * rn\n",
    "        \n",
    "        if localize == 1:\n",
    "            Cvect = CMat[iobs, :]\n",
    "            kfgain = Cvect * (pbht / (hpbht + obs_error_var))\n",
    "        else:\n",
    "            kfgain = pbht / (hpbht + obs_error_var)\n",
    "\n",
    "        mean_inc = kfgain * (zobs[iobs] - hxmean)\n",
    "        prime_inc = - (gainfact * kfgain[:, None] @ hxprime[None, :]).T\n",
    "        \n",
    "        zens = zens + mean_inc + prime_inc\n",
    "    \n",
    "    return zens\n",
    "\n",
    "ensemble_size = 10\n",
    "nobsgrid = 3\n",
    "nmod = 5\n",
    "obs_error_var = 0.5\n",
    "localize = 1\n",
    "\n",
    "# Generate test data\n",
    "np.random.seed(42)\n",
    "zens_mat = np.mat(np.random.rand(ensemble_size, nmod))\n",
    "Hk_mat = np.mat(np.random.rand(nobsgrid, nmod))\n",
    "CMat_mat = np.mat(np.random.rand(nobsgrid, nmod))\n",
    "zobs_mat = np.mat(np.random.rand(1, nobsgrid))\n",
    "\n",
    "# Convert test data to np.array for the corrected function\n",
    "zens_mat_array = np.array(zens_mat)\n",
    "Hk_mat_array = np.array(Hk_mat)\n",
    "CMat_mat_array = np.array(CMat_mat)\n",
    "zobs_mat_array = np.array(zobs_mat)[0,:]\n",
    "\n",
    "# Run the corrected original function using np.array\n",
    "zens_original_corrected_result = eakf1(ensemble_size, nobsgrid, zens_mat_array, Hk_mat_array, obs_error_var, localize, CMat_mat_array, zobs_mat_array)\n",
    "\n",
    "# Run the updated function\n",
    "zens_updated_result = eakf(ensemble_size, nobsgrid, zens_mat, Hk_mat, obs_error_var, localize, CMat_mat, zobs_mat)\n",
    "\n",
    "# Check if the results are approximately equal\n",
    "difference_corrected = np.linalg.norm(zens_original_corrected_result - zens_updated_result)\n",
    "is_correct_corrected = np.allclose(zens_original_corrected_result, zens_updated_result, atol=1e-6)\n",
    "\n",
    "# Display results\n",
    "{\"Difference Norm\": difference_corrected, \"Are Results Matching\": is_correct_corrected}"
   ]
  },
  {
   "cell_type": "code",
   "execution_count": null,
   "id": "06664341-6f5a-4e96-a356-5c499a596ad5",
   "metadata": {},
   "outputs": [],
   "source": []
  }
 ],
 "metadata": {
  "kernelspec": {
   "display_name": "Python [conda env:py]",
   "language": "python",
   "name": "conda-env-py-py"
  },
  "language_info": {
   "codemirror_mode": {
    "name": "ipython",
    "version": 3
   },
   "file_extension": ".py",
   "mimetype": "text/x-python",
   "name": "python",
   "nbconvert_exporter": "python",
   "pygments_lexer": "ipython3",
   "version": "3.11.6"
  }
 },
 "nbformat": 4,
 "nbformat_minor": 5
}
