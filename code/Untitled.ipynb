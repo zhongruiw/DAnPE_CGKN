{
 "cells": [
  {
   "cell_type": "code",
   "execution_count": 3,
   "id": "87739a25-d9ee-4c79-a919-807c014f1f53",
   "metadata": {},
   "outputs": [],
   "source": [
    "import jax.ffi as ffi"
   ]
  },
  {
   "cell_type": "code",
   "execution_count": 4,
   "id": "2a57d054-22e5-48f2-8315-69e3bceeec3e",
   "metadata": {},
   "outputs": [
    {
     "name": "stdout",
     "output_type": "stream",
     "text": [
      "jax: 0.7.1 jaxlib: 0.7.1\n",
      "has jax.ffi? True\n",
      "jax-finufft OK\n"
     ]
    }
   ],
   "source": [
    "import jax, jaxlib\n",
    "print(\"jax:\", jax.__version__, \"jaxlib:\", jaxlib.__version__)\n",
    "print(\"has jax.ffi?\", hasattr(jax, \"ffi\"))\n",
    "import jax_finufft\n",
    "from jax_finufft import nufft2\n",
    "print(\"jax-finufft OK\")\n"
   ]
  },
  {
   "cell_type": "code",
   "execution_count": 1,
   "id": "339a7b41-16ae-4eb7-9a9f-dc5dca9027f0",
   "metadata": {},
   "outputs": [
    {
     "name": "stdout",
     "output_type": "stream",
     "text": [
      "jax: 0.7.1 jaxlib: 0.7.1\n"
     ]
    }
   ],
   "source": [
    "import jax, jaxlib\n",
    "print(\"jax:\", jax.__version__, \"jaxlib:\", jaxlib.__version__)\n"
   ]
  },
  {
   "cell_type": "code",
   "execution_count": 2,
   "id": "981a3e43-5c61-41fb-8e09-f2d9a572ce5d",
   "metadata": {},
   "outputs": [
    {
     "name": "stdout",
     "output_type": "stream",
     "text": [
      "python: /Users/ree/miniconda3/envs/py/bin/python\n",
      "jax versions: 0.7.1 0.7.1\n",
      "jax file: /Users/ree/miniconda3/envs/py/lib/python3.11/site-packages/jax/__init__.py\n"
     ]
    }
   ],
   "source": [
    "import sys, jax, jaxlib\n",
    "print(\"python:\", sys.executable)\n",
    "print(\"jax versions:\", jax.__version__, jaxlib.__version__)\n",
    "print(\"jax file:\", jax.__file__)\n"
   ]
  },
  {
   "cell_type": "code",
   "execution_count": 91,
   "id": "74c38c68-4f55-4a07-8f9a-c6fae2f6a464",
   "metadata": {},
   "outputs": [
    {
     "name": "stdout",
     "output_type": "stream",
     "text": [
      "kxkey = [3186719485 3840466878]\n",
      "kxkey = [3126261553 3539587250]\n",
      "kxkey = [3355082076  543352446]\n",
      "kxkey = [2669013773 1546418196]\n",
      "kxkey = [3146291238 4114776201]\n",
      "kxkey = [ 604427992 2136611236]\n",
      "kxkey = [1542825469 2269351366]\n",
      "kxkey = [3054290234  735097881]\n",
      "kxkey = [2960067817 2974860327]\n",
      "kxkey = [2505311674 3315432209]\n",
      "=== Correctness (σ=0) ===\n",
      "max |Δx| = 1.420e-10,  RMS |Δx| = 2.119e-11\n",
      "max |Δy| = 1.227e-10,  RMS |Δy| = 2.268e-11\n",
      "kxkey = [925083257 785867247]\n",
      "kxkey = [417667310   2962973]\n",
      "kxkey = [  81366922 2937929344]\n",
      "kxkey = [ 444961106 1251040734]\n",
      "kxkey = [1111569872  878452662]\n",
      "kxkey = [ 716588949 4113028476]\n",
      "kxkey = [2974122469  791914111]\n",
      "kxkey = [3576521184 1550172231]\n",
      "kxkey = [2049499597 1098877349]\n",
      "kxkey = [2654013571 1584210542]\n",
      "kxkey = [925083257 785867247]\n",
      "kxkey = [417667310   2962973]\n",
      "kxkey = [  81366922 2937929344]\n",
      "kxkey = [ 444961106 1251040734]\n",
      "kxkey = [1111569872  878452662]\n",
      "kxkey = [ 716588949 4113028476]\n",
      "kxkey = [2974122469  791914111]\n",
      "kxkey = [3576521184 1550172231]\n",
      "kxkey = [2049499597 1098877349]\n",
      "kxkey = [2654013571 1584210542]\n",
      "kxkey = [925083257 785867247]\n",
      "kxkey = [417667310   2962973]\n",
      "kxkey = [  81366922 2937929344]\n",
      "kxkey = [ 444961106 1251040734]\n",
      "kxkey = [1111569872  878452662]\n",
      "kxkey = [ 716588949 4113028476]\n",
      "kxkey = [2974122469  791914111]\n",
      "kxkey = [3576521184 1550172231]\n",
      "kxkey = [2049499597 1098877349]\n",
      "kxkey = [2654013571 1584210542]\n",
      "kxkey = [925083257 785867247]\n",
      "kxkey = [417667310   2962973]\n",
      "kxkey = [  81366922 2937929344]\n",
      "kxkey = [ 444961106 1251040734]\n",
      "kxkey = [1111569872  878452662]\n",
      "kxkey = [ 716588949 4113028476]\n",
      "kxkey = [2974122469  791914111]\n",
      "kxkey = [3576521184 1550172231]\n",
      "kxkey = [2049499597 1098877349]\n",
      "kxkey = [2654013571 1584210542]\n",
      "\n",
      "=== Speed ===\n",
      "Numba        : 3.475 s  (per step ~ 347.48 ms)\n",
      "JAX + FINUFFT: 0.080 s  (per step ~ 8.02 ms)\n",
      "Speedup ≈ 43.32×\n"
     ]
    }
   ],
   "source": [
    "# Benchmark: Numba (direct sum) vs JAX + jax-finufft (type-2 NUFFT)\n",
    "# ---------------------------------------------------------------\n",
    "# - Correctness check with sigma=0 (deterministic)\n",
    "# - Speed test with sigma>0 (independent RNGs; timing-only)\n",
    "#\n",
    "# You can switch to GPU JAX if available by installing the CUDA wheels.\n",
    "# Optional fairness knobs are near the bottom (problem sizes, eps, repeats).\n",
    "\n",
    "import os, time, math\n",
    "import numpy as np\n",
    "from numba import njit, prange\n",
    "\n",
    "import jax\n",
    "import jax.numpy as jnp\n",
    "from jax_finufft import nufft2\n",
    "jax.config.update(\"jax_enable_x64\", True) # Enable float64 in JAX for tight agreement\n",
    "\n",
    "# ----------------------------\n",
    "# Original Numba kernel (your baseline)\n",
    "# ----------------------------\n",
    "@njit(parallel=True, fastmath=True, cache=True)\n",
    "def for_loop_tracer_numba(K, ens, L, N, dt, x, y, KX_flat, KY_flat, psi_hat_flat, sigma_xy):\n",
    "    KX_flat_c = KX_flat  # assume contiguous before call\n",
    "    KY_flat_c = KY_flat\n",
    "    invK2 = 1.0 / (K * K)\n",
    "    twopi = 2.0 * np.pi\n",
    "    sdt = math.sqrt(dt) * sigma_xy\n",
    "\n",
    "    for e in prange(ens):\n",
    "        for i in range(1, N+1):\n",
    "            # Build exp(L x K^2) and do matvecs (heavy!)\n",
    "            exp_term = np.exp(1j * x[e, :, i-1][:, None] @ KX_flat_c[None, :]\n",
    "                              + 1j * y[e, :, i-1][:, None] @ KY_flat_c[None, :])\n",
    "\n",
    "            uk = (psi_hat_flat[e, i-1, :] * (1j) * KY_flat)\n",
    "            vk = (psi_hat_flat[e, i-1, :] * (-1j) * KX_flat)\n",
    "\n",
    "            u = np.real(exp_term @ uk) * invK2\n",
    "            v = np.real(exp_term @ vk) * invK2\n",
    "\n",
    "            x[e, :, i] = x[e, :, i-1] + u * dt + np.random.randn(L) * sdt\n",
    "            y[e, :, i] = y[e, :, i-1] + v * dt + np.random.randn(L) * sdt\n",
    "            x[e, :, i] = np.mod(x[e, :, i], twopi)\n",
    "            y[e, :, i] = np.mod(y[e, :, i], twopi)\n",
    "    return x, y\n",
    "\n",
    "# ----------------------------\n",
    "# JAX + jax-finufft kernel\n",
    "# ----------------------------\n",
    "def for_loop_tracer(\n",
    "    K, ens, L, N, dt, x, y, psi_hat, sigma_xy, key, eps=1e-9,\n",
    "):\n",
    "    # decide real dtype from complex dtype\n",
    "    ctype = jnp.asarray(psi_hat).dtype\n",
    "    rtype = jnp.float64 if ctype == jnp.complex128 else jnp.float32\n",
    "\n",
    "    # JAX scalars\n",
    "    dt_r   = jnp.asarray(dt, dtype=rtype)\n",
    "    sig_r  = jnp.asarray(sigma_xy, dtype=rtype)\n",
    "    twopi  = jnp.asarray(2 * jnp.pi, dtype=rtype)\n",
    "    invK2  = jnp.asarray(1.0 / (K * K), dtype=rtype)\n",
    "    sdt    = jnp.sqrt(dt_r) * sig_r\n",
    "\n",
    "    # Initial positions\n",
    "    x0 = jnp.asarray(x[:, :, 0], dtype=rtype)\n",
    "    y0 = jnp.asarray(y[:, :, 0], dtype=rtype)\n",
    "\n",
    "    # Wavenumbers in FFT order (JAX fftfreq)\n",
    "    k_fft = (jnp.fft.fftfreq(K) * K).astype(rtype)\n",
    "    k_nat = jnp.fft.fftshift(k_fft)     \n",
    "    kx, ky = jnp.meshgrid(k_nat, k_nat)\n",
    "\n",
    "    # Time-major psi\n",
    "    psi_seq = jnp.swapaxes(jnp.asarray(psi_hat), 0, 1) # (N, ens, K, K)\n",
    "\n",
    "    def uv_one(psi_e, x_e, y_e):\n",
    "        psi_e = jnp.fft.fftshift(psi_e, axes=(0, 1))\n",
    "        uhat = 1j * ky * psi_e\n",
    "        vhat = -1j * kx * psi_e\n",
    "        # xx = ((x_e + jnp.pi) % (2 * jnp.pi)) - jnp.pi  # [-pi, pi)\n",
    "        # yy = ((y_e + jnp.pi) % (2 * jnp.pi)) - jnp.pi\n",
    "        xx = x_e % (2 * jnp.pi)\n",
    "        yy = y_e % (2 * jnp.pi)\n",
    "        u = nufft2(uhat, yy, xx, iflag=1, eps=eps).real * invK2\n",
    "        v = nufft2(vhat, yy, xx, iflag=1, eps=eps).real * invK2\n",
    "        return u, v\n",
    "\n",
    "    uv_batched = jax.vmap(uv_one, in_axes=(0, 0, 0), out_axes=(0, 0))\n",
    "\n",
    "    def step(carry, psi_t):\n",
    "        x_t, y_t, key_t = carry\n",
    "        u_t, v_t = uv_batched(psi_t, x_t, y_t)\n",
    "        key_t, kxkey, kykey = jax.random.split(key_t, 3)\n",
    "        xi_x = jax.random.normal(kxkey, shape=x_t.shape, dtype=rtype)\n",
    "        xi_y = jax.random.normal(kykey, shape=y_t.shape, dtype=rtype)\n",
    "        x_new = (x_t + dt_r * u_t + sdt * xi_x) % twopi\n",
    "        y_new = (y_t + dt_r * v_t + sdt * xi_y) % twopi\n",
    "        return (x_new, y_new, key_t), (x_new, y_new)\n",
    "\n",
    "    carry0 = (x0, y0, key)\n",
    "    (xf, yf, _), (xs_hist, ys_hist) = jax.lax.scan(step, carry0, psi_seq[:-1])\n",
    "    xs_hist = jnp.transpose(xs_hist, (1, 2, 0)) \n",
    "    ys_hist = jnp.transpose(ys_hist, (1, 2, 0))\n",
    "    x_out = jnp.concatenate([x0[:, :, None], xs_hist], axis=-1)\n",
    "    y_out = jnp.concatenate([y0[:, :, None], ys_hist], axis=-1)\n",
    "    return x_out, y_out\n",
    "\n",
    "# keep the same jit wrapper\n",
    "for_loop_tracer = jax.jit(\n",
    "    for_loop_tracer,\n",
    "    static_argnums=(0, 1, 2, 3),      # K, ens, L, N\n",
    "    static_argnames=(\"eps\",),         # make eps compile-time static\n",
    ")\n",
    "\n",
    "# ----------------------------\n",
    "# Helpers to build test data\n",
    "# ----------------------------\n",
    "def make_k_arrays(K):\n",
    "    Kx = np.fft.fftfreq(K) * K\n",
    "    Ky = np.fft.fftfreq(K) * K\n",
    "    KX, KY = np.meshgrid(Kx, Ky)\n",
    "    KX_flat = KX.flatten()\n",
    "    KY_flat = KY.flatten()\n",
    "    KX_flat = KX_flat.astype(np.complex128)\n",
    "    KY_flat = KY_flat.astype(np.complex128)\n",
    "\n",
    "    return KX_flat, KY_flat\n",
    "    \n",
    "def init_positions(ens, L, N, seed=0, dtype=np.float64):\n",
    "    rng = np.random.default_rng(seed)\n",
    "    x0 = rng.uniform(0.0, 2*np.pi, size=(ens, L)).astype(dtype)\n",
    "    y0 = rng.uniform(0.0, 2*np.pi, size=(ens, L)).astype(dtype)\n",
    "    x = np.zeros((ens, L, N+1), dtype=dtype)\n",
    "    y = np.zeros_like(x)\n",
    "    x[:, :, 0] = x0\n",
    "    y[:, :, 0] = y0\n",
    "    return x, y\n",
    "\n",
    "# ----------------------------\n",
    "# Timing utilities\n",
    "# ----------------------------\n",
    "def rms(a): return math.sqrt(np.mean(a*a))\n",
    "\n",
    "def timeit_py(fn, *args, repeats=3, **kw):\n",
    "    fn(*args, **kw)  # warm-up\n",
    "    ts = []\n",
    "    for _ in range(repeats):\n",
    "        t0 = time.perf_counter()\n",
    "        fn(*args, **kw)\n",
    "        ts.append(time.perf_counter() - t0)\n",
    "    return min(ts)\n",
    "\n",
    "def timeit_jax(fn, *args, repeats=3, **kw):\n",
    "    # Warm-up & compile\n",
    "    out = fn(*args, **kw)\n",
    "    # Block to exclude compilation time from timing\n",
    "    if isinstance(out, tuple):\n",
    "        jax.block_until_ready(out[0])\n",
    "    else:\n",
    "        jax.block_until_ready(out)\n",
    "    ts = []\n",
    "    for _ in range(repeats):\n",
    "        t0 = time.perf_counter()\n",
    "        out = fn(*args, **kw)\n",
    "        # Ensure compute finished\n",
    "        if isinstance(out, tuple):\n",
    "            jax.block_until_ready(out[0])\n",
    "        else:\n",
    "            jax.block_until_ready(out)\n",
    "        ts.append(time.perf_counter() - t0)\n",
    "    return min(ts)\n",
    "\n",
    "# ----------------------------\n",
    "# Benchmark + correctness\n",
    "# ----------------------------\n",
    "# if __name__ == \"__main__\":\n",
    "#     # Optional: control CPU threads (helpful for fair runs)\n",
    "#     # os.environ[\"OMP_NUM_THREADS\"] = \"1\"   # limit BLAS/NumPy threads used by Numba path\n",
    "#     main()\n",
    "# Problem sizes (tune these)\n",
    "K   = 128         # grid modes per axis\n",
    "L   = 1024       # particles\n",
    "N   = 10         # time steps\n",
    "ens = 1          # ensembles\n",
    "dt  = 2e-3\n",
    "\n",
    "# Accuracy & repeats\n",
    "eps_nufft = 1e-9\n",
    "repeats   = 3\n",
    "\n",
    "# Build data\n",
    "psi4 = psi_k_t1[..., 0] # (ens, N, K, K)\n",
    "psi_flat = np.reshape(psi4, (ens, N+1, -1))\n",
    "\n",
    "KX_flat, KY_flat = make_k_arrays(K)\n",
    "\n",
    "# Init positions\n",
    "x_num, y_num = init_positions(ens, L, N, seed=2, dtype=np.float64)\n",
    "x_jax, y_jax = x_num.copy(), y_num.copy()\n",
    "\n",
    "# Ensure contiguity for Numba inputs\n",
    "KX_flat = np.ascontiguousarray(KX_flat)\n",
    "KY_flat = np.ascontiguousarray(KY_flat)\n",
    "psi_flat = np.ascontiguousarray(psi_flat)\n",
    "\n",
    "# ---------- Correctness (σ = 0) ----------\n",
    "sigma_xy = 0.0\n",
    "\n",
    "xN, yN = for_loop_tracer_numba(K, ens, L, N, dt,\n",
    "                               x_num.copy(), y_num.copy(), KX_flat, KY_flat, psi_flat, sigma_xy)\n",
    "key = jax.random.PRNGKey(0)  # unused when sigma=0, but required by API\n",
    "xJ, yJ = for_loop_tracer(K, ens, L, N, dt,\n",
    "                                        x_jax.copy(), y_jax.copy(), psi4, sigma_xy, key, eps=eps_nufft)\n",
    "\n",
    "# Bring JAX -> NumPy\n",
    "xJ = np.array(xJ); yJ = np.array(yJ)\n",
    "\n",
    "# Compare modulo 2π\n",
    "twopi = 2*np.pi\n",
    "diff_x = (xN - xJ + np.pi) % (twopi) - np.pi\n",
    "diff_y = (yN - yJ + np.pi) % (twopi) - np.pi\n",
    "\n",
    "print(\"=== Correctness (σ=0) ===\")\n",
    "print(f\"max |Δx| = {np.max(np.abs(diff_x)):.3e},  RMS |Δx| = {rms(diff_x):.3e}\")\n",
    "print(f\"max |Δy| = {np.max(np.abs(diff_y)):.3e},  RMS |Δy| = {rms(diff_y):.3e}\")\n",
    "\n",
    "# ---------- Speed (σ > 0) ----------\n",
    "sigma_xy_speed = 0.2\n",
    "\n",
    "# Fresh copies\n",
    "x1, y1 = init_positions(ens, L, N, seed=3, dtype=np.float64)\n",
    "x2, y2 = x1.copy(), y1.copy()\n",
    "\n",
    "t_num = timeit_py(for_loop_tracer_numba, K, ens, L, N, dt,\n",
    "                  x1, y1, KX_flat, KY_flat, psi_flat, sigma_xy_speed, repeats=repeats)\n",
    "\n",
    "key = jax.random.PRNGKey(123)\n",
    "t_jax = timeit_jax(for_loop_tracer, K, ens, L, N, dt,\n",
    "                   x2, y2, psi4, sigma_xy_speed, key, eps=eps_nufft, repeats=repeats)\n",
    "\n",
    "steps = ens * N\n",
    "print(\"\\n=== Speed ===\")\n",
    "print(f\"Numba        : {t_num:.3f} s  (per step ~ {1e3*t_num/steps:.2f} ms)\")\n",
    "print(f\"JAX + FINUFFT: {t_jax:.3f} s  (per step ~ {1e3*t_jax/steps:.2f} ms)\")\n",
    "print(f\"Speedup ≈ {t_num / t_jax:.2f}×\")\n"
   ]
  },
  {
   "cell_type": "code",
   "execution_count": 69,
   "id": "7747ff52-680a-403d-bf2a-8d99c83276cd",
   "metadata": {},
   "outputs": [
    {
     "data": {
      "text/plain": [
       "[<matplotlib.lines.Line2D at 0x2af6f4210>]"
      ]
     },
     "execution_count": 69,
     "metadata": {},
     "output_type": "execute_result"
    },
    {
     "data": {
      "image/png": "[encoded data removed]",
      "text/plain": [
       "<Figure size 640x480 with 1 Axes>"
      ]
     },
     "metadata": {},
     "output_type": "display_data"
    }
   ],
   "source": [
    "import matplotlib.pyplot as plt\n",
    "\n",
    "plt.plot(yN[0,0,:], 'r')\n",
    "plt.plot(yJ[0,0,:], 'b')\n"
   ]
  },
  {
   "cell_type": "code",
   "execution_count": 75,
   "id": "ad4ae5d8-4307-4de6-abd3-3e6229d554c8",
   "metadata": {},
   "outputs": [
    {
     "ename": "TypeError",
     "evalue": "JAX encountered invalid PRNG key data: expected key_data to have ndim, shape, and dtype attributes. Got 0",
     "output_type": "error",
     "traceback": [
      "\u001b[0;31m---------------------------------------------------------------------------\u001b[0m",
      "\u001b[0;31mTypeError\u001b[0m                                 Traceback (most recent call last)",
      "Cell \u001b[0;32mIn[75], line 1\u001b[0m\n\u001b[0;32m----> 1\u001b[0m jax\u001b[38;5;241m.\u001b[39mrandom\u001b[38;5;241m.\u001b[39mnormal(\u001b[38;5;241m0\u001b[39m, shape\u001b[38;5;241m=\u001b[39m(\u001b[38;5;241m1\u001b[39m,))\n",
      "File \u001b[0;32m~/miniconda3/envs/py/lib/python3.11/site-packages/jax/_src/random.py:693\u001b[0m, in \u001b[0;36mnormal\u001b[0;34m(key, shape, dtype)\u001b[0m\n\u001b[1;32m    671\u001b[0m \u001b[38;5;28;01mdef\u001b[39;00m \u001b[38;5;21mnormal\u001b[39m(key: KeyArrayLike,\n\u001b[1;32m    672\u001b[0m            shape: Shape \u001b[38;5;241m=\u001b[39m (),\n\u001b[1;32m    673\u001b[0m            dtype: DTypeLikeFloat \u001b[38;5;241m=\u001b[39m \u001b[38;5;28mfloat\u001b[39m) \u001b[38;5;241m-\u001b[39m\u001b[38;5;241m>\u001b[39m Array:\n\u001b[1;32m    674\u001b[0m \u001b[38;5;250m  \u001b[39m\u001b[38;5;124mr\u001b[39m\u001b[38;5;124;03m\"\"\"Sample standard normal random values with given shape and float dtype.\u001b[39;00m\n\u001b[1;32m    675\u001b[0m \n\u001b[1;32m    676\u001b[0m \u001b[38;5;124;03m  The values are returned according to the probability density function:\u001b[39;00m\n\u001b[0;32m   (...)\u001b[0m\n\u001b[1;32m    691\u001b[0m \u001b[38;5;124;03m    A random array with the specified shape and dtype.\u001b[39;00m\n\u001b[1;32m    692\u001b[0m \u001b[38;5;124;03m  \"\"\"\u001b[39;00m\n\u001b[0;32m--> 693\u001b[0m   key, _ \u001b[38;5;241m=\u001b[39m _check_prng_key(\u001b[38;5;124m\"\u001b[39m\u001b[38;5;124mnormal\u001b[39m\u001b[38;5;124m\"\u001b[39m, key)\n\u001b[1;32m    694\u001b[0m   shape \u001b[38;5;241m=\u001b[39m core\u001b[38;5;241m.\u001b[39mcanonicalize_shape(shape)\n\u001b[1;32m    695\u001b[0m   dtypes\u001b[38;5;241m.\u001b[39mcheck_user_dtype_supported(dtype)\n",
      "File \u001b[0;32m~/miniconda3/envs/py/lib/python3.11/site-packages/jax/_src/random.py:79\u001b[0m, in \u001b[0;36m_check_prng_key\u001b[0;34m(name, key, allow_batched)\u001b[0m\n\u001b[1;32m     76\u001b[0m   wrapped \u001b[38;5;241m=\u001b[39m \u001b[38;5;28;01mFalse\u001b[39;00m\n\u001b[1;32m     77\u001b[0m \u001b[38;5;28;01melif\u001b[39;00m _arraylike(key):\n\u001b[1;32m     78\u001b[0m   \u001b[38;5;66;03m# Call random_wrap here to surface errors for invalid keys.\u001b[39;00m\n\u001b[0;32m---> 79\u001b[0m   wrapped_key \u001b[38;5;241m=\u001b[39m prng\u001b[38;5;241m.\u001b[39mrandom_wrap(key, impl\u001b[38;5;241m=\u001b[39mdefault_prng_impl())\n\u001b[1;32m     80\u001b[0m   wrapped \u001b[38;5;241m=\u001b[39m \u001b[38;5;28;01mTrue\u001b[39;00m\n\u001b[1;32m     81\u001b[0m   \u001b[38;5;28;01mif\u001b[39;00m config\u001b[38;5;241m.\u001b[39mlegacy_prng_key\u001b[38;5;241m.\u001b[39mvalue \u001b[38;5;241m==\u001b[39m \u001b[38;5;124m'\u001b[39m\u001b[38;5;124merror\u001b[39m\u001b[38;5;124m'\u001b[39m:\n",
      "File \u001b[0;32m~/miniconda3/envs/py/lib/python3.11/site-packages/jax/_src/prng.py:695\u001b[0m, in \u001b[0;36mrandom_wrap\u001b[0;34m(base_arr, impl)\u001b[0m\n\u001b[1;32m    694\u001b[0m \u001b[38;5;28;01mdef\u001b[39;00m \u001b[38;5;21mrandom_wrap\u001b[39m(base_arr, \u001b[38;5;241m*\u001b[39m, impl):\n\u001b[0;32m--> 695\u001b[0m   _check_prng_key_data(impl, base_arr)\n\u001b[1;32m    696\u001b[0m   \u001b[38;5;28;01mreturn\u001b[39;00m random_wrap_p\u001b[38;5;241m.\u001b[39mbind(base_arr, impl\u001b[38;5;241m=\u001b[39mimpl)\n",
      "File \u001b[0;32m~/miniconda3/envs/py/lib/python3.11/site-packages/jax/_src/prng.py:122\u001b[0m, in \u001b[0;36m_check_prng_key_data\u001b[0;34m(impl, key_data)\u001b[0m\n\u001b[1;32m    120\u001b[0m ndim \u001b[38;5;241m=\u001b[39m \u001b[38;5;28mlen\u001b[39m(impl\u001b[38;5;241m.\u001b[39mkey_shape)\n\u001b[1;32m    121\u001b[0m \u001b[38;5;28;01mif\u001b[39;00m \u001b[38;5;129;01mnot\u001b[39;00m \u001b[38;5;28mall\u001b[39m(\u001b[38;5;28mhasattr\u001b[39m(key_data, attr) \u001b[38;5;28;01mfor\u001b[39;00m attr \u001b[38;5;129;01min\u001b[39;00m [\u001b[38;5;124m'\u001b[39m\u001b[38;5;124mndim\u001b[39m\u001b[38;5;124m'\u001b[39m, \u001b[38;5;124m'\u001b[39m\u001b[38;5;124mshape\u001b[39m\u001b[38;5;124m'\u001b[39m, \u001b[38;5;124m'\u001b[39m\u001b[38;5;124mdtype\u001b[39m\u001b[38;5;124m'\u001b[39m]):\n\u001b[0;32m--> 122\u001b[0m   \u001b[38;5;28;01mraise\u001b[39;00m \u001b[38;5;167;01mTypeError\u001b[39;00m(\u001b[38;5;124m\"\u001b[39m\u001b[38;5;124mJAX encountered invalid PRNG key data: expected key_data \u001b[39m\u001b[38;5;124m\"\u001b[39m\n\u001b[1;32m    123\u001b[0m                   \u001b[38;5;124mf\u001b[39m\u001b[38;5;124m\"\u001b[39m\u001b[38;5;124mto have ndim, shape, and dtype attributes. Got \u001b[39m\u001b[38;5;132;01m{\u001b[39;00mkey_data\u001b[38;5;132;01m}\u001b[39;00m\u001b[38;5;124m\"\u001b[39m)\n\u001b[1;32m    124\u001b[0m \u001b[38;5;28;01mif\u001b[39;00m key_data\u001b[38;5;241m.\u001b[39mndim \u001b[38;5;241m<\u001b[39m \u001b[38;5;241m1\u001b[39m:\n\u001b[1;32m    125\u001b[0m   \u001b[38;5;28;01mraise\u001b[39;00m \u001b[38;5;167;01mTypeError\u001b[39;00m(\u001b[38;5;124m\"\u001b[39m\u001b[38;5;124mJAX encountered invalid PRNG key data: expected \u001b[39m\u001b[38;5;124m\"\u001b[39m\n\u001b[1;32m    126\u001b[0m                   \u001b[38;5;124mf\u001b[39m\u001b[38;5;124m\"\u001b[39m\u001b[38;5;124mkey_data.ndim >= 1; got ndim=\u001b[39m\u001b[38;5;132;01m{\u001b[39;00mkey_data\u001b[38;5;241m.\u001b[39mndim\u001b[38;5;132;01m}\u001b[39;00m\u001b[38;5;124m\"\u001b[39m)\n",
      "\u001b[0;31mTypeError\u001b[0m: JAX encountered invalid PRNG key data: expected key_data to have ndim, shape, and dtype attributes. Got 0"
     ]
    }
   ],
   "source": [
    "jax.random.normal(0, shape=(1,))"
   ]
  },
  {
   "cell_type": "code",
   "execution_count": 88,
   "id": "704b7b1c-3de4-4335-a4c9-3c4774cab395",
   "metadata": {},
   "outputs": [],
   "source": [
    "key = jax.random.PRNGKey(0)\n",
    "key_t, kxkey, kykey = jax.random.split(key, 3)"
   ]
  },
  {
   "cell_type": "code",
   "execution_count": 89,
   "id": "134fad12-86b7-44f0-9a60-bea6ed2c4507",
   "metadata": {},
   "outputs": [
    {
     "data": {
      "text/plain": [
       "Array([2467461003,  428148500], dtype=uint32)"
      ]
     },
     "execution_count": 89,
     "metadata": {},
     "output_type": "execute_result"
    }
   ],
   "source": [
    "key_t"
   ]
  },
  {
   "cell_type": "code",
   "execution_count": 94,
   "id": "2f6e5ea7-cebf-4017-ae8a-ae4e361d4937",
   "metadata": {},
   "outputs": [
    {
     "data": {
      "text/plain": [
       "-2131094139"
      ]
     },
     "execution_count": 94,
     "metadata": {},
     "output_type": "execute_result"
    }
   ],
   "source": [
    "np.random.randint(-2147483648, 2147483648)"
   ]
  },
  {
   "cell_type": "code",
   "execution_count": null,
   "id": "857395bc-326e-47b5-b27b-6ead6765627f",
   "metadata": {},
   "outputs": [],
   "source": []
  },
  {
   "cell_type": "code",
   "execution_count": 62,
   "id": "8bf41ed6-7f7f-4008-8637-de2d677ad85d",
   "metadata": {},
   "outputs": [
    {
     "data": {
      "text/plain": [
       "1.6437575180951982"
      ]
     },
     "execution_count": 62,
     "metadata": {},
     "output_type": "execute_result"
    }
   ],
   "source": [
    "x_num[0,0,0]"
   ]
  },
  {
   "cell_type": "code",
   "execution_count": 61,
   "id": "780f9e8e-5b8c-4bcc-b46b-ce940ee160a8",
   "metadata": {},
   "outputs": [
    {
     "data": {
      "text/plain": [
       "1.6437575180951982"
      ]
     },
     "execution_count": 61,
     "metadata": {},
     "output_type": "execute_result"
    }
   ],
   "source": [
    "yJ[0,0,0]"
   ]
  },
  {
   "cell_type": "code",
   "execution_count": 46,
   "id": "454152f8-c7df-4f86-9ee1-8dc9acf5bddc",
   "metadata": {},
   "outputs": [
    {
     "name": "stdout",
     "output_type": "stream",
     "text": [
      "\n",
      "=== K = 32 ===\n",
      "[trial 1/3]  max|Δ|=2.521e-13   RMS|Δ|=1.034e-13\n",
      "[trial 2/3]  max|Δ|=2.602e-13   RMS|Δ|=1.008e-13\n",
      "[trial 3/3]  max|Δ|=2.825e-13   RMS|Δ|=1.017e-13\n",
      "\n",
      "Averaged over 3 trials:\n",
      "  mean max|Δ| = 2.649e-13\n",
      "  mean RMS|Δ| = 1.020e-13\n",
      "\n",
      "=== K = 64 ===\n",
      "[trial 1/3]  max|Δ|=1.799e-13   RMS|Δ|=5.542e-14\n",
      "[trial 2/3]  max|Δ|=1.923e-13   RMS|Δ|=5.725e-14\n",
      "[trial 3/3]  max|Δ|=1.632e-13   RMS|Δ|=5.653e-14\n",
      "\n",
      "Averaged over 3 trials:\n",
      "  mean max|Δ| = 1.785e-13\n",
      "  mean RMS|Δ| = 5.640e-14\n",
      "\n",
      "=== K = 128 ===\n",
      "[trial 1/3]  max|Δ|=8.327e-14   RMS|Δ|=2.759e-14\n",
      "[trial 2/3]  max|Δ|=7.686e-14   RMS|Δ|=2.709e-14\n",
      "[trial 3/3]  max|Δ|=9.570e-14   RMS|Δ|=2.725e-14\n",
      "\n",
      "Averaged over 3 trials:\n",
      "  mean max|Δ| = 8.527e-14\n",
      "  mean RMS|Δ| = 2.731e-14\n"
     ]
    }
   ],
   "source": [
    "import numpy as np\n",
    "import jax\n",
    "import jax.numpy as jnp\n",
    "from jax_finufft import nufft2\n",
    "\n",
    "# for tight agreement in float64\n",
    "jax.config.update(\"jax_enable_x64\", True)\n",
    "\n",
    "def compare_nufft_ifft2(K=64, n_trials=3, seed=0, eps=1e-12, verbose=True):\n",
    "    \"\"\"\n",
    "    Compare jax-finufft nufft2 (type-2) to numpy.fft.ifft2 on a uniform KxK grid.\n",
    "    Returns (max_abs_err, rms_err) averaged over trials (also prints per-trial).\n",
    "    \"\"\"\n",
    "    rng = np.random.default_rng(seed)\n",
    "\n",
    "    # Uniform grid points in [0, 2π)\n",
    "    idx = jnp.arange(K, dtype=jnp.float64)\n",
    "    xx, yy = jnp.meshgrid(2*jnp.pi*idx/K, 2*jnp.pi*idx/K, indexing=\"xy\")\n",
    "    x_flat = xx.ravel(order=\"F\")\n",
    "    y_flat = yy.ravel(order=\"F\")\n",
    "\n",
    "    max_errs = []\n",
    "    rms_errs = []\n",
    "\n",
    "    for t in range(n_trials):\n",
    "        # Random complex spectrum in NumPy FFT order\n",
    "        C_fft = (rng.standard_normal((K, K)) + 1j * rng.standard_normal((K, K))).astype(np.complex128)\n",
    "\n",
    "        # Reference: NumPy IFFT (note: includes 1/K^2 normalization)\n",
    "        f_ifft = np.fft.ifft2(C_fft)  # shape (K, K), complex128\n",
    "\n",
    "        # NUFFT expects NATURAL mode order: [-K/2..K/2-1] along each axis\n",
    "        C_nat = np.fft.fftshift(C_fft, axes=(0, 1))  # (K,K) complex128\n",
    "        # C_nat = C_fft  # (K,K) complex128\n",
    "\n",
    "        # Evaluate NUFFT on the same uniform grid\n",
    "        # nufft2: grid coeffs -> values at points; use iflag=+1 to match ifft2 sign\n",
    "        f_nufft_flat = nufft2(jnp.asarray(C_nat), y_flat, x_flat, iflag=+1, eps=eps)\n",
    "        f_nufft = np.array(f_nufft_flat).reshape(K, K, order=\"F\") / (K * K)  # apply 1/K^2\n",
    "\n",
    "        # Errors\n",
    "        diff = f_nufft - f_ifft\n",
    "        max_err = np.max(np.abs(diff))\n",
    "        rms_err = np.sqrt(np.mean(np.abs(diff) ** 2))\n",
    "\n",
    "        max_errs.append(max_err)\n",
    "        rms_errs.append(rms_err)\n",
    "\n",
    "        if verbose:\n",
    "            print(f\"[trial {t+1}/{n_trials}]  max|Δ|={max_err:.3e}   RMS|Δ|={rms_err:.3e}\")\n",
    "\n",
    "    # Aggregate (not strictly necessary, but handy if n_trials>1)\n",
    "    max_avg = float(np.mean(max_errs))\n",
    "    rms_avg = float(np.mean(rms_errs))\n",
    "    if verbose and n_trials > 1:\n",
    "        print(f\"\\nAveraged over {n_trials} trials:\")\n",
    "        print(f\"  mean max|Δ| = {max_avg:.3e}\")\n",
    "        print(f\"  mean RMS|Δ| = {rms_avg:.3e}\")\n",
    "    return max_avg, rms_avg\n",
    "\n",
    "if __name__ == \"__main__\":\n",
    "    # Try a couple sizes; NUFFT is approximate, so use a reasonably tight eps.\n",
    "    for K in (32, 64, 128):\n",
    "        print(f\"\\n=== K = {K} ===\")\n",
    "        compare_nufft_ifft2(K=K, n_trials=3, eps=1e-12)\n"
   ]
  },
  {
   "cell_type": "code",
   "execution_count": 37,
   "id": "cb12554f-b032-4089-910b-b0d9fd566ce9",
   "metadata": {},
   "outputs": [],
   "source": [
    "k_fft = (jnp.fft.fftfreq(K) * K)\n",
    "k_nat = jnp.fft.fftshift(k_fft) "
   ]
  },
  {
   "cell_type": "code",
   "execution_count": 38,
   "id": "4579fd74-c9e5-47c3-9944-9bcd6367988b",
   "metadata": {},
   "outputs": [
    {
     "data": {
      "text/plain": [
       "Array([-64., -63., -62., -61., -60., -59., -58., -57., -56., -55., -54.,\n",
       "       -53., -52., -51., -50., -49., -48., -47., -46., -45., -44., -43.,\n",
       "       -42., -41., -40., -39., -38., -37., -36., -35., -34., -33., -32.,\n",
       "       -31., -30., -29., -28., -27., -26., -25., -24., -23., -22., -21.,\n",
       "       -20., -19., -18., -17., -16., -15., -14., -13., -12., -11., -10.,\n",
       "        -9.,  -8.,  -7.,  -6.,  -5.,  -4.,  -3.,  -2.,  -1.,   0.,   1.,\n",
       "         2.,   3.,   4.,   5.,   6.,   7.,   8.,   9.,  10.,  11.,  12.,\n",
       "        13.,  14.,  15.,  16.,  17.,  18.,  19.,  20.,  21.,  22.,  23.,\n",
       "        24.,  25.,  26.,  27.,  28.,  29.,  30.,  31.,  32.,  33.,  34.,\n",
       "        35.,  36.,  37.,  38.,  39.,  40.,  41.,  42.,  43.,  44.,  45.,\n",
       "        46.,  47.,  48.,  49.,  50.,  51.,  52.,  53.,  54.,  55.,  56.,\n",
       "        57.,  58.,  59.,  60.,  61.,  62.,  63.], dtype=float64)"
      ]
     },
     "execution_count": 38,
     "metadata": {},
     "output_type": "execute_result"
    }
   ],
   "source": [
    "k_nat"
   ]
  },
  {
   "cell_type": "code",
   "execution_count": 39,
   "id": "1463b7a4-3675-4951-8a90-9028361f682c",
   "metadata": {},
   "outputs": [
    {
     "data": {
      "text/plain": [
       "Array([  0.,   1.,   2.,   3.,   4.,   5.,   6.,   7.,   8.,   9.,  10.,\n",
       "        11.,  12.,  13.,  14.,  15.,  16.,  17.,  18.,  19.,  20.,  21.,\n",
       "        22.,  23.,  24.,  25.,  26.,  27.,  28.,  29.,  30.,  31.,  32.,\n",
       "        33.,  34.,  35.,  36.,  37.,  38.,  39.,  40.,  41.,  42.,  43.,\n",
       "        44.,  45.,  46.,  47.,  48.,  49.,  50.,  51.,  52.,  53.,  54.,\n",
       "        55.,  56.,  57.,  58.,  59.,  60.,  61.,  62.,  63., -64., -63.,\n",
       "       -62., -61., -60., -59., -58., -57., -56., -55., -54., -53., -52.,\n",
       "       -51., -50., -49., -48., -47., -46., -45., -44., -43., -42., -41.,\n",
       "       -40., -39., -38., -37., -36., -35., -34., -33., -32., -31., -30.,\n",
       "       -29., -28., -27., -26., -25., -24., -23., -22., -21., -20., -19.,\n",
       "       -18., -17., -16., -15., -14., -13., -12., -11., -10.,  -9.,  -8.,\n",
       "        -7.,  -6.,  -5.,  -4.,  -3.,  -2.,  -1.], dtype=float64)"
      ]
     },
     "execution_count": 39,
     "metadata": {},
     "output_type": "execute_result"
    }
   ],
   "source": [
    "k_fft"
   ]
  },
  {
   "cell_type": "code",
   "execution_count": 9,
   "id": "337bb031-7a05-4382-a467-cdfc917fcc0d",
   "metadata": {},
   "outputs": [
    {
     "data": {
      "text/plain": [
       "(1, 11, 128, 128)"
      ]
     },
     "execution_count": 9,
     "metadata": {},
     "output_type": "execute_result"
    }
   ],
   "source": [
    "psi4 = psi_k_t1[..., 0]\n",
    "psi4.shape"
   ]
  },
  {
   "cell_type": "code",
   "execution_count": 13,
   "id": "af5c5d63-c548-430e-b5e6-6371f668262f",
   "metadata": {},
   "outputs": [
    {
     "data": {
      "text/plain": [
       "(1, 11, 16384)"
      ]
     },
     "execution_count": 13,
     "metadata": {},
     "output_type": "execute_result"
    }
   ],
   "source": [
    "np.reshape(psi4, (1, 10+1, -1)).shape"
   ]
  },
  {
   "cell_type": "code",
   "execution_count": 4,
   "id": "8db24660-0d87-4ee5-b325-cc2b72513e27",
   "metadata": {},
   "outputs": [
    {
     "name": "stderr",
     "output_type": "stream",
     "text": [
      "/var/folders/lz/50081q0n24g8lq6ncqpbp8780000gn/T/ipykernel_40085/148327773.py:40: RuntimeWarning: divide by zero encountered in divide\n",
      "  q2psi = -1 / (K_square * (K_square + kd**2))[:,:,None,None] * (np.eye(2) * K_square[:, :, None, None] + kd**2/2)\n",
      "/Users/ree/Documents/Research/Proj_2_DAnPE_CGKN/code/QG.py:132: RuntimeWarning: divide by zero encountered in divide\n",
      "  q2psi = -1 / (K_square * (K_square + kd**2))[:,:,None,None] * (np.eye(2) * K_square[:, :, None, None] + kd**2/2)\n"
     ]
    }
   ],
   "source": [
    "import numpy as np\n",
    "from numba import jit\n",
    "from QG import QG\n",
    "from Lagrangian_tracer import Lagrange_tracer_model\n",
    "from time import time\n",
    "'''\n",
    "require rocket-fft for numba to be aware of np.fft\n",
    "!pip install rocket-fft \n",
    "'''\n",
    "def generate_topo(N=128, alpha=4.0):\n",
    "    '''generate a gaussian random field as topography'''\n",
    "    kx = np.fft.fftfreq(N).reshape(-1, 1)\n",
    "    ky = np.fft.fftfreq(N).reshape(1, -1)\n",
    "    k = np.sqrt(kx**2 + ky**2)\n",
    "    k[0, 0] = 1e-6  # avoid division by zero\n",
    "    spectrum = 1.0 / k**alpha # Power-law spectrum: 1 / k^alpha\n",
    "    noise = np.random.normal(size=(N, N)) + 1j * np.random.normal(size=(N, N))\n",
    "    fft_field = noise * np.sqrt(spectrum)\n",
    "    field = np.fft.ifft2(fft_field).real\n",
    "    field -= np.mean(field)\n",
    "    field /= np.std(field)\n",
    "    return field\n",
    "\n",
    "class QG_tracer:\n",
    "    def __init__(self, K=128, kd=10, kb=np.sqrt(22), U=1, r=9, nu=1e-12, H=40, topo=None, sigma_xy=0.1, style='square'):\n",
    "        Kx = np.fft.fftfreq(K) * K\n",
    "        Ky = np.fft.fftfreq(K) * K\n",
    "        KX, KY = np.meshgrid(Kx, Ky)\n",
    "\n",
    "        # Initialize topography\n",
    "        if topo is None:\n",
    "            dx = 2 * np.pi / K\n",
    "            X, Y = np.meshgrid(np.arange(0, 2*np.pi, dx), np.arange(0, 2*np.pi, dx))\n",
    "            topo = H * (np.cos(X) + 2 * np.cos(2 * Y))\n",
    "            topo -= np.mean(topo)  # subtracting the mean to center the topography\n",
    "        hk = np.fft.fft2(topo)\n",
    "\n",
    "        # Initialize additional variables for the simulation\n",
    "        K_square = KX**2 + KY**2\n",
    "        q2psi = -1 / (K_square * (K_square + kd**2))[:,:,None,None] * (np.eye(2) * K_square[:, :, None, None] + kd**2/2)\n",
    "        q2psi[0,0,:,:] = 0\n",
    "        q2psi = q2psi.astype(np.complex128)\n",
    "        subtract_hk = np.zeros(((K,K,2)), dtype=complex)\n",
    "        subtract_hk[:,:,1] = hk\n",
    "\n",
    "        self.flow_model = QG(K, kd, kb, U, r, nu, H, topo)\n",
    "        self.tracer_model = Lagrange_tracer_model(K, sigma_xy, style)\n",
    "        self.q2psi = q2psi\n",
    "        self.subtract_hk = subtract_hk\n",
    "\n",
    "    def forward_ens(self, ens, Nt=1, dt=1e-3, qp_ens=None, L=1, x0=None, y0=None):\n",
    "        '''\n",
    "        qp_ens: array of shape (ens, K, K, 2)\n",
    "        x0, y0: arrays of shape (ens, L)\n",
    "        '''\n",
    "        K = qp_ens.shape[1]\n",
    "        flow_model = self.flow_model\n",
    "        tracer_model = self.tracer_model\n",
    "        q2psi = self.q2psi\n",
    "        subtract_hk = self.subtract_hk\n",
    "\n",
    "        # run flow model\n",
    "        qp_history = flow_model.forward_ens(ens, Nt, dt, qp_ens)\n",
    "        q_hat_history = np.fft.fft2(qp_history, axes=(2,3))\n",
    "\n",
    "        # q to psi\n",
    "        q_vec = q_hat_history - subtract_hk\n",
    "        psi_hat_history = (q2psi @ q_vec[:,:,:,:,:,None])[:,:,:,:,:,0] # of shape (ens,Nt+1,K,K,2)\n",
    "\n",
    "        # # psi to velocity\n",
    "        # u = np.real(np.fft.ifft2(psi_hat_history[:, -1, :, :, :] * 1j * KY[:, :, None], axes=(1,2)))\n",
    "        # v = np.real(np.fft.ifft2(psi_hat_history[:, -1, :, :, :] * (-1j) * KX[:, :, None], axes=(1,2)))\n",
    "\n",
    "        # run tracer model\n",
    "        x, y = tracer_model.forward_ens(ens, L, Nt, dt, x0, y0, psi_hat_history[:, :, :, :, 0]) # of shape (ens,L,Nt+1)\n",
    "\n",
    "        return psi_hat_history, x, y, qp_history#, u, v\n",
    "\n",
    "    def forward_flow(self, ens=1, Nt=1, dt=1e-3, qp_ens=None):\n",
    "        '''\n",
    "        qp_ens: array of shape (ens, K, K, 2)\n",
    "        '''\n",
    "        flow_model = self.flow_model\n",
    "        q2psi = self.q2psi\n",
    "        subtract_hk = self.subtract_hk\n",
    "\n",
    "        # run flow model\n",
    "        qp_history = flow_model.forward_ens(ens, Nt, dt, qp_ens) # of shape (ens, Nt+1, K, K, 2)\n",
    "        q_hat_history = np.fft.fft2(qp_history, axes=(2,3))\n",
    "\n",
    "        # q to psi\n",
    "        q_vec = q_hat_history - subtract_hk\n",
    "        psi_hat_history = (q2psi @ q_vec[:,:,:,:,:,None])[:,:,:,:,:,0] # of shape (ens,Nt+1,K,K,2)\n",
    "\n",
    "        return qp_history, psi_hat_history\n",
    "\n",
    "\n",
    "if __name__ == \"__main__\": \n",
    "    np.random.seed(0)\n",
    "\n",
    "    # ---------- QG model parameters ------------\n",
    "    K = 128 # Number of points (also Fourier modes) in each direction\n",
    "    kd = 10 # Nondimensional deformation wavenumber\n",
    "    kb = np.sqrt(22) # Nondimensional beta wavenumber, beta = kb^2 \n",
    "    U = 1 # Zonal shear flow\n",
    "    r = 9 # Nondimensional Ekman friction coefficient\n",
    "    nu = 1e-12 # Coefficient of biharmonic vorticity diffusion\n",
    "    H = 40 # Topography parameter\n",
    "    dt = 2e-3 # Time step size\n",
    "    warm_up = 10 # Warm-up time steps\n",
    "    Nt = 100 + warm_up # Number of time steps\n",
    "\n",
    "    # ------- Tracer observation parameters -------\n",
    "    L = 1024 # Number of tracers\n",
    "    sigma_xy = 0.1 # Tracer observation noise std (in sde)\n",
    "    dt_obs = 4e-2 # Observation time interval\n",
    "    obs_freq = int(dt_obs / dt) # Observation frequency\n",
    "    Nt_obs = int((Nt - warm_up) / obs_freq + 1) # Number of observations saved\n",
    "\n",
    "    # -------------- initialization ---------------\n",
    "    # topo = generate_topo(K, 4) # generate topography\n",
    "    # topo = H * topo\n",
    "    dx = 2 * np.pi / K\n",
    "    X, Y = np.meshgrid(np.arange(0, 2*np.pi, dx), np.arange(0, 2*np.pi, dx))\n",
    "    topo = H * (np.cos(X) + 2 * np.cos(2 * Y))\n",
    "    topo -= np.mean(topo)  # subtracting the mean to center the topography\n",
    "    qp = np.zeros((K, K, 2))\n",
    "    qp[:, :, 1] = 10 * np.random.randn(K, K)\n",
    "    qp[:, :, 1] -= np.mean(qp[:, :, 1])\n",
    "    qp[:, :, 0] = qp[:, :, 1]\n",
    "    psi_k_t = np.zeros((Nt_obs, K, K, 2), dtype=complex)\n",
    "    model = QG_tracer(K=K, kd=kd, kb=kb, U=U, r=r, nu=nu, topo=topo, sigma_xy=sigma_xy)\n",
    "    # model = QG_tracer(K=K, kd=kd, kb=kb, U=U, r=r, nu=nu, H=H, sigma_xy=sigma_xy)\n",
    "    x_t = np.zeros((Nt_obs, L))\n",
    "    y_t = np.zeros((Nt_obs, L))\n",
    "    x0 = np.pi + 0.1 * np.random.randn(L) # np.random.uniform(0, 2*np.pi, L)\n",
    "    y0 = np.pi + 0.1 * np.random.randn(L) # np.random.uniform(0, 2*np.pi, L)\n",
    "    x_t[0, :] = x0\n",
    "    y_t[0, :] = y0\n",
    "\n",
    "    # warm up\n",
    "    qp_t, psi_k_t1 = model.forward_flow(ens=1, Nt=warm_up, dt=dt, qp_ens=qp[None,:,:,:])"
   ]
  },
  {
   "cell_type": "code",
   "execution_count": 16,
   "id": "868cc080-8f5d-43e5-b69a-e3737ed6d9ac",
   "metadata": {},
   "outputs": [
    {
     "data": {
      "text/plain": [
       "(6, 64, 64, 2)"
      ]
     },
     "execution_count": 16,
     "metadata": {},
     "output_type": "execute_result"
    }
   ],
   "source": [
    "psi_t.shape"
   ]
  },
  {
   "cell_type": "code",
   "execution_count": 13,
   "id": "a6bdb360-971a-4004-9be3-b4e1eccf5e6c",
   "metadata": {},
   "outputs": [],
   "source": [
    "import numpy as np\n",
    "# file = np.load('../data/qg_data_topo2_L512.npz')\n",
    "file = np.load('./qg_data_test.npz')\n",
    "psi_t = file['psi_truth']\n",
    "xy_obs = file['xy_obs']"
   ]
  },
  {
   "cell_type": "code",
   "execution_count": 17,
   "id": "48fbe633-1477-4451-b582-0488a9cd53c0",
   "metadata": {},
   "outputs": [
    {
     "data": {
      "image/png": "[encoded data removed]",
      "text/plain": [
       "<Figure size 640x480 with 1 Axes>"
      ]
     },
     "metadata": {},
     "output_type": "display_data"
    }
   ],
   "source": [
    "psi_k_t = np.fft.fft2(psi_t[:, :, :, :], axes=(1,2))\n",
    "x_t = xy_obs[:, :, 0]\n",
    "y_t = xy_obs[:, :, 1]\n",
    "\n",
    "Nt = 5\n",
    "Nx = 64\n",
    "Kx = np.fft.fftfreq(Nx) * Nx\n",
    "Ky = np.fft.fftfreq(Nx) * Nx\n",
    "KX, KY = np.meshgrid(Kx, Ky)\n",
    "ut = np.real(np.fft.ifft2(psi_k_t * 1j * KY[:,:,None], axes=(1,2)))\n",
    "vt = np.real(np.fft.ifft2(psi_k_t * (-1j) * KX[:,:,None], axes=(1,2)))\n",
    "\n",
    "import matplotlib.pyplot as plt\n",
    "from matplotlib.animation import FuncAnimation\n",
    "\n",
    "K = 64\n",
    "L = 2\n",
    "interv = 2\n",
    "# animation of tracers on flow field\n",
    "tracer_x = x_t[:, :L]\n",
    "tracer_y = y_t[:, :L]\n",
    "velocity_ut = ut[:, ::interv, ::interv, 0]\n",
    "velocity_vt = vt[:, ::interv, ::interv, 0]\n",
    "\n",
    "# Set up the figure and axis for plotting\n",
    "fig, ax = plt.subplots()\n",
    "ax.set_xlim([0, 2*np.pi])\n",
    "ax.set_ylim([0, 2*np.pi])\n",
    "xgrid = np.linspace(0, 2*np.pi, int(K/interv), endpoint=False)\n",
    "ygrid = np.linspace(0, 2*np.pi, int(K/interv), endpoint=False)\n",
    "X, Y = np.meshgrid(xgrid, ygrid)\n",
    "quiver = ax.quiver(X, Y, velocity_ut[0,:,:], velocity_vt[0,:,:])#, color='lightgrey', scale=10)\n",
    "tracer, = ax.plot([], [], 'ro', markersize=5)  # Initial empty tracer plot\n",
    "\n",
    "# Initialization function for FuncAnimation\n",
    "def init():\n",
    "    tracer.set_data([], [])\n",
    "    quiver.set_UVC(velocity_ut[0,:,:], velocity_vt[0,:,:])\n",
    "    return tracer, quiver\n",
    "\n",
    "# Update function for FuncAnimation\n",
    "def update(frame):\n",
    "    # tracer.set_data(tracer_x[frame], tracer_y[frame])\n",
    "    all_tracers_x = tracer_x[frame, :]\n",
    "    all_tracers_y = tracer_y[frame, :]\n",
    "    tracer.set_data(all_tracers_x, all_tracers_y)  # Update tracers' position\n",
    "    quiver.set_UVC(velocity_ut[frame,:,:], velocity_vt[frame,:,:])\n",
    "    return tracer, quiver\n",
    "\n",
    "# Create animation\n",
    "ani = FuncAnimation(fig, update, frames=range(0, Nt+1, 1), init_func=init, blit=False, interval=400)\n",
    "\n",
    "# Save the animation\n",
    "ani.save('tracer_flow.gif', writer='pillow', dpi=80)\n",
    "\n",
    "plt.show()"
   ]
  },
  {
   "cell_type": "code",
   "execution_count": null,
   "id": "46182316-1477-4f62-9e55-0f1a80742428",
   "metadata": {},
   "outputs": [],
   "source": []
  }
 ],
 "metadata": {
  "kernelspec": {
   "display_name": "Python [conda env:py]",
   "language": "python",
   "name": "conda-env-py-py"
  },
  "language_info": {
   "codemirror_mode": {
    "name": "ipython",
    "version": 3
   },
   "file_extension": ".py",
   "mimetype": "text/x-python",
   "name": "python",
   "nbconvert_exporter": "python",
   "pygments_lexer": "ipython3",
   "version": "3.11.8"
  }
 },
 "nbformat": 4,
 "nbformat_minor": 5
}
